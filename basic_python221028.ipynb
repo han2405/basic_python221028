{
  "nbformat": 4,
  "nbformat_minor": 0,
  "metadata": {
    "colab": {
      "provenance": [],
      "authorship_tag": "ABX9TyNo600pG23UtA732Ljf9gxT",
      "include_colab_link": true
    },
    "kernelspec": {
      "name": "python3",
      "display_name": "Python 3"
    },
    "language_info": {
      "name": "python"
    }
  },
  "cells": [
    {
      "cell_type": "markdown",
      "metadata": {
        "id": "view-in-github",
        "colab_type": "text"
      },
      "source": [
        "<a href=\"https://colab.research.google.com/github/han2405/basic_python221028/blob/main/basic_python221028.ipynb\" target=\"_parent\"><img src=\"https://colab.research.google.com/assets/colab-badge.svg\" alt=\"Open In Colab\"/></a>"
      ]
    },
    {
      "cell_type": "markdown",
      "source": [
        "1번 문제 사용자로부터 두 개의 정수를 받아서 정수의 합, 정수의 차, 정수의 곱, 정수의 평균, 큰 수, 작은 수를 게산하여 화면에 출력하는 프로그램을 작성하라. 파이썬이 제공하는 내장 함수 max(x,y), min(x,y)을 사용해보자.<br>"
      ],
      "metadata": {
        "id": "MW28LwpJdm2f"
      }
    },
    {
      "cell_type": "code",
      "execution_count": 1,
      "metadata": {
        "colab": {
          "base_uri": "https://localhost:8080/"
        },
        "id": "nKyLrqp3Y_Jg",
        "outputId": "f296cd69-7b17-4a9d-cf80-0a37583a372d"
      },
      "outputs": [
        {
          "output_type": "stream",
          "name": "stdout",
          "text": [
            "x의 값은? :10\n",
            "y의 값은? :20\n",
            "두수의 합은: 30\n",
            "두수의 차는 : -10\n",
            "두수의 곱은 : 200\n",
            "두수의 평균은 : 15.0\n",
            "큰 수는 20\n",
            "작은 수는: 10\n"
          ]
        }
      ],
      "source": [
        "x=int(input(\"x의 값은? :\"))\n",
        "y=int(input(\"y의 값은? :\"))\n",
        "\n",
        "print(\"두수의 합은:\", x+y )\n",
        "print(\"두수의 차는 :\", x-y )\n",
        "print(\"두수의 곱은 :\", x*y )\n",
        "print(\"두수의 평균은 :\", (x+y)/2 )\n",
        "print(\"큰 수는\", max(x,y))\n",
        "print(\"작은 수는:\", min(x,y))"
      ]
    },
    {
      "cell_type": "markdown",
      "source": [
        "2번 문제 원기둥의 부피를 게산하는 프로그램을 작성해보자. 원기둥의 부피는 다음과 같이 게산한다."
      ],
      "metadata": {
        "id": "AwmkoWmQduhD"
      }
    },
    {
      "cell_type": "code",
      "source": [
        "r=float(input(\"r 값은? :\"))\n",
        "h=float(input(\"h 값은? :\"))\n",
        "\n",
        "vol=3.14159265358979*r**2*h\n",
        "print(\"원기둥의 부피는\", vol)"
      ],
      "metadata": {
        "colab": {
          "base_uri": "https://localhost:8080/"
        },
        "id": "5bBjCG7fcafl",
        "outputId": "05f7fe0a-7bc5-43d3-f2f6-647fcc5eaab3"
      },
      "execution_count": 3,
      "outputs": [
        {
          "output_type": "stream",
          "name": "stdout",
          "text": [
            "r 값은? :10\n",
            "h 값은? :100\n",
            "원기둥의 부피는 31415.9265358979\n"
          ]
        }
      ]
    },
    {
      "cell_type": "markdown",
      "source": [
        "3번 문제 사용자로부터 정수를 받아서 정수의 자리수의 합을 게산하는 프로그램을 작성하여 보자. <br> 에를 들어서 사용자가 1234를 입력하였다면 1+2+3+4를 게산하면 된다. 나머지 연산자와 정수 나눗셈 연산자 //를 적극적으로 사용해보자.\n",
        "\n",
        "1의 자리수는 number % 10 으로 게산할 수 있다. 10의 자리수는 number=number//10 한 훙[ 동일한 처리를 되풀이 한다. 단 반복문은 사용하지 않는다."
      ],
      "metadata": {
        "id": "0u4nkxhSedKv"
      }
    },
    {
      "cell_type": "code",
      "source": [
        "number=int(input(\"정수를 입력하시오: \"))\n",
        "\n",
        "sum=0 #초기화는 중요\n",
        "\n",
        "sum=sum+number%10\n",
        "number=number//10 #나머지\n",
        "\n",
        "sum=sum+number%10\n",
        "number=number//10\n",
        "\n",
        "sum=sum+number%10\n",
        "number=number//10\n",
        "\n",
        "sum=sum+number%10\n",
        "number=number//10\n",
        "\n",
        "print(\"자리 수의 합은\", str(sum))"
      ],
      "metadata": {
        "colab": {
          "base_uri": "https://localhost:8080/"
        },
        "id": "1UzoN1j7ectI",
        "outputId": "acf51a77-20f7-409c-b2d2-5a93163fad70"
      },
      "execution_count": 4,
      "outputs": [
        {
          "output_type": "stream",
          "name": "stdout",
          "text": [
            "정수를 입력하시오: 1234\n",
            "자리 수의 합은 10\n"
          ]
        }
      ]
    },
    {
      "cell_type": "markdown",
      "source": [
        "4번 두 점의 좌표 (x1, y1) 과 (x2, y2)를 입력받아서 두 점 사이의 거리를 계산하는 프로그램을 작성해보자. 스크립트 모드로 작성하라. 거리는 다음 식으로 계산한다."
      ],
      "metadata": {
        "id": "_Xl8AK8ihLOw"
      }
    },
    {
      "cell_type": "code",
      "source": [
        "x1=int(input(\"x1 값을 입력하시오. :\"))\n",
        "y1=int(input(\"y1 값을 입력하시오. :\"))\n",
        "\n",
        "x2=int(input(\"x2 값을 입력하시오. :\"))\n",
        "y2=int(input(\"y2 값을 입력하시오. :\"))\n",
        "\n",
        "dist=((x1-x2)**2+(y1-y2)**2)**0.5\n",
        "print(\"두 점의 사이의 거리는\", dist, \"입니다.\")"
      ],
      "metadata": {
        "colab": {
          "base_uri": "https://localhost:8080/"
        },
        "id": "C3GWf_ZmhLYK",
        "outputId": "0d65ce55-c71a-4d88-d734-cfc2762ad099"
      },
      "execution_count": 10,
      "outputs": [
        {
          "output_type": "stream",
          "name": "stdout",
          "text": [
            "x1 값을 입력하시오. :0\n",
            "y1 값을 입력하시오. :0\n",
            "x2 값을 입력하시오. :100\n",
            "y2 값을 입력하시오. :100\n",
            "두 점의 사이의 거리는 141.4213562373095 입니다.\n"
          ]
        }
      ]
    }
  ]
}