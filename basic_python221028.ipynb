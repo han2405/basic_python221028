{
  "nbformat": 4,
  "nbformat_minor": 0,
  "metadata": {
    "colab": {
      "provenance": [],
      "authorship_tag": "ABX9TyNeDOh49xIOXuNRNzxLnEY/",
      "include_colab_link": true
    },
    "kernelspec": {
      "name": "python3",
      "display_name": "Python 3"
    },
    "language_info": {
      "name": "python"
    }
  },
  "cells": [
    {
      "cell_type": "markdown",
      "metadata": {
        "id": "view-in-github",
        "colab_type": "text"
      },
      "source": [
        "<a href=\"https://colab.research.google.com/github/han2405/basic_python221028/blob/main/basic_python221028.ipynb\" target=\"_parent\"><img src=\"https://colab.research.google.com/assets/colab-badge.svg\" alt=\"Open In Colab\"/></a>"
      ]
    },
    {
      "cell_type": "code",
      "execution_count": 1,
      "metadata": {
        "colab": {
          "base_uri": "https://localhost:8080/"
        },
        "id": "nKyLrqp3Y_Jg",
        "outputId": "f296cd69-7b17-4a9d-cf80-0a37583a372d"
      },
      "outputs": [
        {
          "output_type": "stream",
          "name": "stdout",
          "text": [
            "x의 값은? :10\n",
            "y의 값은? :20\n",
            "두수의 합은: 30\n",
            "두수의 차는 : -10\n",
            "두수의 곱은 : 200\n",
            "두수의 평균은 : 15.0\n",
            "큰 수는 20\n",
            "작은 수는: 10\n"
          ]
        }
      ],
      "source": [
        "x=int(input(\"x의 값은? :\"))\n",
        "y=int(input(\"y의 값은? :\"))\n",
        "\n",
        "print(\"두수의 합은:\", x+y )\n",
        "print(\"두수의 차는 :\", x-y )\n",
        "print(\"두수의 곱은 :\", x*y )\n",
        "print(\"두수의 평균은 :\", (x+y)/2 )\n",
        "print(\"큰 수는\", max(x,y))\n",
        "print(\"작은 수는:\", min(x,y))"
      ]
    }
  ]
}