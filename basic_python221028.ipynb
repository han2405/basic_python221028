{
  "nbformat": 4,
  "nbformat_minor": 0,
  "metadata": {
    "colab": {
      "provenance": [],
      "authorship_tag": "ABX9TyNlbMbNU2XldJ01j9b3Hg35",
      "include_colab_link": true
    },
    "kernelspec": {
      "name": "python3",
      "display_name": "Python 3"
    },
    "language_info": {
      "name": "python"
    }
  },
  "cells": [
    {
      "cell_type": "markdown",
      "metadata": {
        "id": "view-in-github",
        "colab_type": "text"
      },
      "source": [
        "<a href=\"https://colab.research.google.com/github/han2405/basic_python221028/blob/main/basic_python221028.ipynb\" target=\"_parent\"><img src=\"https://colab.research.google.com/assets/colab-badge.svg\" alt=\"Open In Colab\"/></a>"
      ]
    },
    {
      "cell_type": "markdown",
      "source": [
        "1번 문제 사용자로부터 두 개의 정수를 받아서 정수의 합, 정수의 차, 정수의 곱, 정수의 평균, 큰 수, 작은 수를 게산하여 화면에 출력하는 프로그램을 작성하라. 파이썬이 제공하는 내장 함수 max(x,y), min(x,y)을 사용해보자.<br>"
      ],
      "metadata": {
        "id": "MW28LwpJdm2f"
      }
    },
    {
      "cell_type": "code",
      "execution_count": 1,
      "metadata": {
        "colab": {
          "base_uri": "https://localhost:8080/"
        },
        "id": "nKyLrqp3Y_Jg",
        "outputId": "f296cd69-7b17-4a9d-cf80-0a37583a372d"
      },
      "outputs": [
        {
          "output_type": "stream",
          "name": "stdout",
          "text": [
            "x의 값은? :10\n",
            "y의 값은? :20\n",
            "두수의 합은: 30\n",
            "두수의 차는 : -10\n",
            "두수의 곱은 : 200\n",
            "두수의 평균은 : 15.0\n",
            "큰 수는 20\n",
            "작은 수는: 10\n"
          ]
        }
      ],
      "source": [
        "x=int(input(\"x의 값은? :\"))\n",
        "y=int(input(\"y의 값은? :\"))\n",
        "\n",
        "print(\"두수의 합은:\", x+y )\n",
        "print(\"두수의 차는 :\", x-y )\n",
        "print(\"두수의 곱은 :\", x*y )\n",
        "print(\"두수의 평균은 :\", (x+y)/2 )\n",
        "print(\"큰 수는\", max(x,y))\n",
        "print(\"작은 수는:\", min(x,y))"
      ]
    },
    {
      "cell_type": "markdown",
      "source": [
        "2번 문제 원기둥의 부피를 게산하는 프로그램을 작성해보자. 원기둥의 부피는 다음과 같이 게산한다."
      ],
      "metadata": {
        "id": "AwmkoWmQduhD"
      }
    },
    {
      "cell_type": "code",
      "source": [
        "r=float(input(\"r 값은? :\"))\n",
        "h=float(input(\"h 값은? :\"))\n",
        "\n",
        "vol=3.14159265358979*r**2*h\n",
        "print(\"원기둥의 부피는\", vol)"
      ],
      "metadata": {
        "colab": {
          "base_uri": "https://localhost:8080/"
        },
        "id": "5bBjCG7fcafl",
        "outputId": "05f7fe0a-7bc5-43d3-f2f6-647fcc5eaab3"
      },
      "execution_count": 3,
      "outputs": [
        {
          "output_type": "stream",
          "name": "stdout",
          "text": [
            "r 값은? :10\n",
            "h 값은? :100\n",
            "원기둥의 부피는 31415.9265358979\n"
          ]
        }
      ]
    }
  ]
}